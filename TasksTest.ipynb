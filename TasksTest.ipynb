{
 "cells": [
  {
   "cell_type": "code",
   "execution_count": 1,
   "metadata": {},
   "outputs": [
    {
     "name": "stdout",
     "output_type": "stream",
     "text": [
      "  task project category  priority                  note  complete\n",
      "0  Run    home   health       1.0  Get my fat ass going     False\n",
      "1  Run    home   health       1.0  Get my fat ass going     False\n",
      "2                             4.0                           False\n"
     ]
    }
   ],
   "source": [
    "import datetime\n",
    "import sqlite3\n",
    "import pandas as pd\n",
    "import sqlalchemy\n",
    "import datetime\n",
    "import os\n",
    "dirname = os.getcwd()\n",
    "Database = os.path.join(dirname, 'data/tasks.db')\n",
    "\n",
    "connection = sqlite3.connect(Database)\n",
    "cursor = connection.cursor()\n",
    "engine = sqlalchemy.create_engine(r'sqlite:///{}'.format(Database)).connect()\n",
    "df = pd.read_sql_table('tasks', engine, index_col=1)\n",
    "\n",
    "print(df.head())"
   ]
  },
  {
   "cell_type": "code",
   "execution_count": 2,
   "metadata": {},
   "outputs": [],
   "source": [
    "# Use the match function to update the dataframe depending on catagory passed into this function\n",
    "new_task = {'task': \"Run\", 'project':'home', 'category':'health','priority':int(1),'note':'Get my fat ass going','complete':False}\n",
    "new_row = pd.DataFrame(new_task, index=[0])\n",
    "df = df.append(new_row, ignore_index=True)"
   ]
  },
  {
   "cell_type": "code",
   "execution_count": 3,
   "metadata": {},
   "outputs": [
    {
     "data": {
      "text/html": [
       "<div>\n",
       "<style scoped>\n",
       "    .dataframe tbody tr th:only-of-type {\n",
       "        vertical-align: middle;\n",
       "    }\n",
       "\n",
       "    .dataframe tbody tr th {\n",
       "        vertical-align: top;\n",
       "    }\n",
       "\n",
       "    .dataframe thead th {\n",
       "        text-align: right;\n",
       "    }\n",
       "</style>\n",
       "<table border=\"1\" class=\"dataframe\">\n",
       "  <thead>\n",
       "    <tr style=\"text-align: right;\">\n",
       "      <th></th>\n",
       "      <th>task</th>\n",
       "      <th>note</th>\n",
       "      <th>complete</th>\n",
       "    </tr>\n",
       "  </thead>\n",
       "  <tbody>\n",
       "    <tr>\n",
       "      <th>0</th>\n",
       "      <td>Run</td>\n",
       "      <td>Get my fat ass going</td>\n",
       "      <td>False</td>\n",
       "    </tr>\n",
       "    <tr>\n",
       "      <th>1</th>\n",
       "      <td>Run</td>\n",
       "      <td>Get my fat ass going</td>\n",
       "      <td>False</td>\n",
       "    </tr>\n",
       "    <tr>\n",
       "      <th>2</th>\n",
       "      <td></td>\n",
       "      <td></td>\n",
       "      <td>False</td>\n",
       "    </tr>\n",
       "    <tr>\n",
       "      <th>3</th>\n",
       "      <td>Run</td>\n",
       "      <td>Get my fat ass going</td>\n",
       "      <td>False</td>\n",
       "    </tr>\n",
       "  </tbody>\n",
       "</table>\n",
       "</div>"
      ],
      "text/plain": [
       "  task                  note  complete\n",
       "0  Run  Get my fat ass going     False\n",
       "1  Run  Get my fat ass going     False\n",
       "2                                False\n",
       "3  Run  Get my fat ass going     False"
      ]
     },
     "execution_count": 3,
     "metadata": {},
     "output_type": "execute_result"
    }
   ],
   "source": [
    "df[['task','note','complete']]"
   ]
  },
  {
   "cell_type": "code",
   "execution_count": 28,
   "metadata": {},
   "outputs": [],
   "source": [
    "def addNewTask(df):\n",
    "    # Use the match function to update the dataframe depending on catagory passed into this function\n",
    "    new_task = {'task': \"Figure this shit out\", 'project':'LIFE', 'category':'LIFE','priority':1,'note':'This is a long note to test the abilitiy to make long notes','complete':False}\n",
    "    new_row = pd.DataFrame(new_task, index=[0])\n",
    "    df = df.append(new_row, ignore_index=True)\n",
    "    return df"
   ]
  },
  {
   "cell_type": "code",
   "execution_count": 31,
   "metadata": {},
   "outputs": [],
   "source": [
    "df.to_sql('tasks', engine, if_exists='replace', index=False)"
   ]
  },
  {
   "cell_type": "code",
   "execution_count": 30,
   "metadata": {},
   "outputs": [],
   "source": [
    "df = addNewTask(df)"
   ]
  },
  {
   "cell_type": "code",
   "execution_count": 32,
   "metadata": {},
   "outputs": [
    {
     "data": {
      "text/html": [
       "<div>\n",
       "<style scoped>\n",
       "    .dataframe tbody tr th:only-of-type {\n",
       "        vertical-align: middle;\n",
       "    }\n",
       "\n",
       "    .dataframe tbody tr th {\n",
       "        vertical-align: top;\n",
       "    }\n",
       "\n",
       "    .dataframe thead th {\n",
       "        text-align: right;\n",
       "    }\n",
       "</style>\n",
       "<table border=\"1\" class=\"dataframe\">\n",
       "  <thead>\n",
       "    <tr style=\"text-align: right;\">\n",
       "      <th></th>\n",
       "      <th>task</th>\n",
       "      <th>project</th>\n",
       "      <th>category</th>\n",
       "      <th>priority</th>\n",
       "      <th>note</th>\n",
       "      <th>complete</th>\n",
       "    </tr>\n",
       "  </thead>\n",
       "  <tbody>\n",
       "    <tr>\n",
       "      <th>0</th>\n",
       "      <td>Run</td>\n",
       "      <td>home</td>\n",
       "      <td>health</td>\n",
       "      <td>1.0</td>\n",
       "      <td>Get my fat ass going</td>\n",
       "      <td>False</td>\n",
       "    </tr>\n",
       "    <tr>\n",
       "      <th>1</th>\n",
       "      <td>Run</td>\n",
       "      <td>home</td>\n",
       "      <td>health</td>\n",
       "      <td>1.0</td>\n",
       "      <td>Get my fat ass going</td>\n",
       "      <td>False</td>\n",
       "    </tr>\n",
       "    <tr>\n",
       "      <th>2</th>\n",
       "      <td></td>\n",
       "      <td></td>\n",
       "      <td></td>\n",
       "      <td>4.0</td>\n",
       "      <td></td>\n",
       "      <td>False</td>\n",
       "    </tr>\n",
       "    <tr>\n",
       "      <th>3</th>\n",
       "      <td>Run</td>\n",
       "      <td>home</td>\n",
       "      <td>health</td>\n",
       "      <td>1.0</td>\n",
       "      <td>Get my fat ass going</td>\n",
       "      <td>False</td>\n",
       "    </tr>\n",
       "    <tr>\n",
       "      <th>4</th>\n",
       "      <td>Figure this shit out</td>\n",
       "      <td>LIFE</td>\n",
       "      <td>LIFE</td>\n",
       "      <td>1.0</td>\n",
       "      <td>This is a long note to test the abilitiy to ma...</td>\n",
       "      <td>False</td>\n",
       "    </tr>\n",
       "  </tbody>\n",
       "</table>\n",
       "</div>"
      ],
      "text/plain": [
       "                   task project category  priority  \\\n",
       "0                   Run    home   health       1.0   \n",
       "1                   Run    home   health       1.0   \n",
       "2                                              4.0   \n",
       "3                   Run    home   health       1.0   \n",
       "4  Figure this shit out    LIFE     LIFE       1.0   \n",
       "\n",
       "                                                note  complete  \n",
       "0                               Get my fat ass going     False  \n",
       "1                               Get my fat ass going     False  \n",
       "2                                                        False  \n",
       "3                               Get my fat ass going     False  \n",
       "4  This is a long note to test the abilitiy to ma...     False  "
      ]
     },
     "execution_count": 32,
     "metadata": {},
     "output_type": "execute_result"
    }
   ],
   "source": [
    "df"
   ]
  },
  {
   "cell_type": "code",
   "execution_count": 34,
   "metadata": {},
   "outputs": [],
   "source": [
    "df.to_sql('tasks', engine, if_exists='replace', index=False)"
   ]
  },
  {
   "cell_type": "code",
   "execution_count": 35,
   "metadata": {},
   "outputs": [
    {
     "data": {
      "text/html": [
       "<div>\n",
       "<style scoped>\n",
       "    .dataframe tbody tr th:only-of-type {\n",
       "        vertical-align: middle;\n",
       "    }\n",
       "\n",
       "    .dataframe tbody tr th {\n",
       "        vertical-align: top;\n",
       "    }\n",
       "\n",
       "    .dataframe thead th {\n",
       "        text-align: right;\n",
       "    }\n",
       "</style>\n",
       "<table border=\"1\" class=\"dataframe\">\n",
       "  <thead>\n",
       "    <tr style=\"text-align: right;\">\n",
       "      <th></th>\n",
       "      <th>task</th>\n",
       "      <th>project</th>\n",
       "      <th>category</th>\n",
       "      <th>priority</th>\n",
       "      <th>note</th>\n",
       "      <th>complete</th>\n",
       "    </tr>\n",
       "  </thead>\n",
       "  <tbody>\n",
       "    <tr>\n",
       "      <th>0</th>\n",
       "      <td>Run</td>\n",
       "      <td>home</td>\n",
       "      <td>health</td>\n",
       "      <td>1.0</td>\n",
       "      <td>Get my fat ass going</td>\n",
       "      <td>False</td>\n",
       "    </tr>\n",
       "    <tr>\n",
       "      <th>1</th>\n",
       "      <td>Run</td>\n",
       "      <td>home</td>\n",
       "      <td>health</td>\n",
       "      <td>1.0</td>\n",
       "      <td>Get my fat ass going</td>\n",
       "      <td>False</td>\n",
       "    </tr>\n",
       "    <tr>\n",
       "      <th>2</th>\n",
       "      <td></td>\n",
       "      <td></td>\n",
       "      <td></td>\n",
       "      <td>4.0</td>\n",
       "      <td></td>\n",
       "      <td>False</td>\n",
       "    </tr>\n",
       "  </tbody>\n",
       "</table>\n",
       "</div>"
      ],
      "text/plain": [
       "  task project category  priority                  note  complete\n",
       "0  Run    home   health       1.0  Get my fat ass going     False\n",
       "1  Run    home   health       1.0  Get my fat ass going     False\n",
       "2                             4.0                           False"
      ]
     },
     "execution_count": 35,
     "metadata": {},
     "output_type": "execute_result"
    }
   ],
   "source": [
    "df"
   ]
  },
  {
   "cell_type": "code",
   "execution_count": 15,
   "metadata": {},
   "outputs": [],
   "source": [
    "df_dict = df.to_dict(orient='records')"
   ]
  },
  {
   "cell_type": "code",
   "execution_count": 16,
   "metadata": {},
   "outputs": [
    {
     "data": {
      "text/plain": [
       "[{'task': 'Run',\n",
       "  'project': 'home',\n",
       "  'category': 'health',\n",
       "  'priority': 1.0,\n",
       "  'note': 'Get my fat ass going',\n",
       "  'complete': False},\n",
       " {'task': 'Run',\n",
       "  'project': 'home',\n",
       "  'category': 'health',\n",
       "  'priority': 1.0,\n",
       "  'note': 'Get my fat ass going',\n",
       "  'complete': False},\n",
       " {'task': '',\n",
       "  'project': '',\n",
       "  'category': '',\n",
       "  'priority': 4.0,\n",
       "  'note': '',\n",
       "  'complete': False},\n",
       " {'task': 'Run',\n",
       "  'project': 'home',\n",
       "  'category': 'health',\n",
       "  'priority': 1.0,\n",
       "  'note': 'Get my fat ass going',\n",
       "  'complete': False}]"
      ]
     },
     "execution_count": 16,
     "metadata": {},
     "output_type": "execute_result"
    }
   ],
   "source": [
    "df_dict"
   ]
  },
  {
   "cell_type": "code",
   "execution_count": 19,
   "metadata": {},
   "outputs": [
    {
     "name": "stdout",
     "output_type": "stream",
     "text": [
      "{'task': 'Run', 'project': 'home', 'category': 'health', 'priority': 1.0, 'note': 'Get my fat ass going', 'complete': False}\n"
     ]
    }
   ],
   "source": [
    "print(df_dict[1])"
   ]
  },
  {
   "cell_type": "code",
   "execution_count": 23,
   "metadata": {},
   "outputs": [
    {
     "data": {
      "text/plain": [
       "dict_keys(['task', 'project', 'category', 'priority', 'note', 'complete'])"
      ]
     },
     "execution_count": 23,
     "metadata": {},
     "output_type": "execute_result"
    }
   ],
   "source": [
    "df_dict[0].keys()"
   ]
  },
  {
   "cell_type": "code",
   "execution_count": 24,
   "metadata": {},
   "outputs": [
    {
     "ename": "TypeError",
     "evalue": "set_index() missing 1 required positional argument: 'keys'",
     "output_type": "error",
     "traceback": [
      "\u001b[1;31m---------------------------------------------------------------------------\u001b[0m",
      "\u001b[1;31mTypeError\u001b[0m                                 Traceback (most recent call last)",
      "\u001b[1;32m<ipython-input-24-a0581cb84c9b>\u001b[0m in \u001b[0;36m<module>\u001b[1;34m\u001b[0m\n\u001b[1;32m----> 1\u001b[1;33m \u001b[0mdf\u001b[0m\u001b[1;33m.\u001b[0m\u001b[0mset_index\u001b[0m\u001b[1;33m(\u001b[0m\u001b[1;33m)\u001b[0m\u001b[1;33m\u001b[0m\u001b[1;33m\u001b[0m\u001b[0m\n\u001b[0m",
      "\u001b[1;31mTypeError\u001b[0m: set_index() missing 1 required positional argument: 'keys'"
     ]
    }
   ],
   "source": [
    "df.set_index()"
   ]
  },
  {
   "cell_type": "code",
   "execution_count": 26,
   "metadata": {},
   "outputs": [
    {
     "name": "stdout",
     "output_type": "stream",
     "text": [
      "Run\n",
      "home\n",
      "health\n",
      "1.0\n",
      "Get my fat ass going\n",
      "False\n"
     ]
    }
   ],
   "source": [
    "for key in df_dict[0]:\n",
    "    print(df_dict[0][key])"
   ]
  },
  {
   "cell_type": "code",
   "execution_count": 27,
   "metadata": {},
   "outputs": [
    {
     "name": "stdout",
     "output_type": "stream",
     "text": [
      "4\n"
     ]
    }
   ],
   "source": [
    "print(len(df_dict))"
   ]
  },
  {
   "cell_type": "code",
   "execution_count": null,
   "metadata": {},
   "outputs": [],
   "source": []
  }
 ],
 "metadata": {
  "kernelspec": {
   "display_name": "Python 3 (ipykernel)",
   "language": "python",
   "name": "python3"
  },
  "language_info": {
   "codemirror_mode": {
    "name": "ipython",
    "version": 3
   },
   "file_extension": ".py",
   "mimetype": "text/x-python",
   "name": "python",
   "nbconvert_exporter": "python",
   "pygments_lexer": "ipython3",
   "version": "3.9.7"
  }
 },
 "nbformat": 4,
 "nbformat_minor": 4
}
