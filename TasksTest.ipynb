{
 "cells": [
  {
   "cell_type": "code",
   "execution_count": 25,
   "metadata": {},
   "outputs": [
    {
     "name": "stdout",
     "output_type": "stream",
     "text": [
      "  task project category  priority                  note  complete\n",
      "0  Run    home   health       1.0  Get my fat ass going     False\n",
      "1  Run    home   health       1.0  Get my fat ass going     False\n",
      "2                             4.0                           False\n"
     ]
    }
   ],
   "source": [
    "import datetime\n",
    "import sqlite3\n",
    "import pandas as pd\n",
    "import sqlalchemy\n",
    "import datetime\n",
    "import os\n",
    "dirname = os.getcwd()\n",
    "Database = os.path.join(dirname, 'data/tasks.db')\n",
    "\n",
    "connection = sqlite3.connect(Database)\n",
    "cursor = connection.cursor()\n",
    "engine = sqlalchemy.create_engine(r'sqlite:///{}'.format(Database)).connect()\n",
    "df = pd.read_sql_table('tasks', engine, index_col=1)\n",
    "\n",
    "print(df.head())"
   ]
  },
  {
   "cell_type": "code",
   "execution_count": 26,
   "metadata": {},
   "outputs": [],
   "source": [
    "# Use the match function to update the dataframe depending on catagory passed into this function\n",
    "new_task = {'task': \"Run\", 'project':'home', 'category':'health','priority':int(1),'note':'Get my fat ass going','complete':False}\n",
    "new_row = pd.DataFrame(new_task, index=[0])\n",
    "df = df.append(new_row, ignore_index=True)"
   ]
  },
  {
   "cell_type": "code",
   "execution_count": 27,
   "metadata": {},
   "outputs": [
    {
     "data": {
      "text/html": [
       "<div>\n",
       "<style scoped>\n",
       "    .dataframe tbody tr th:only-of-type {\n",
       "        vertical-align: middle;\n",
       "    }\n",
       "\n",
       "    .dataframe tbody tr th {\n",
       "        vertical-align: top;\n",
       "    }\n",
       "\n",
       "    .dataframe thead th {\n",
       "        text-align: right;\n",
       "    }\n",
       "</style>\n",
       "<table border=\"1\" class=\"dataframe\">\n",
       "  <thead>\n",
       "    <tr style=\"text-align: right;\">\n",
       "      <th></th>\n",
       "      <th>task</th>\n",
       "      <th>note</th>\n",
       "      <th>complete</th>\n",
       "    </tr>\n",
       "  </thead>\n",
       "  <tbody>\n",
       "    <tr>\n",
       "      <th>0</th>\n",
       "      <td>Run</td>\n",
       "      <td>Get my fat ass going</td>\n",
       "      <td>False</td>\n",
       "    </tr>\n",
       "    <tr>\n",
       "      <th>1</th>\n",
       "      <td>Run</td>\n",
       "      <td>Get my fat ass going</td>\n",
       "      <td>False</td>\n",
       "    </tr>\n",
       "    <tr>\n",
       "      <th>2</th>\n",
       "      <td></td>\n",
       "      <td></td>\n",
       "      <td>False</td>\n",
       "    </tr>\n",
       "    <tr>\n",
       "      <th>3</th>\n",
       "      <td>Run</td>\n",
       "      <td>Get my fat ass going</td>\n",
       "      <td>False</td>\n",
       "    </tr>\n",
       "  </tbody>\n",
       "</table>\n",
       "</div>"
      ],
      "text/plain": [
       "  task                  note  complete\n",
       "0  Run  Get my fat ass going     False\n",
       "1  Run  Get my fat ass going     False\n",
       "2                                False\n",
       "3  Run  Get my fat ass going     False"
      ]
     },
     "execution_count": 27,
     "metadata": {},
     "output_type": "execute_result"
    }
   ],
   "source": [
    "df[['task','note','complete']]"
   ]
  },
  {
   "cell_type": "code",
   "execution_count": 28,
   "metadata": {},
   "outputs": [],
   "source": [
    "def addNewTask(df):\n",
    "    # Use the match function to update the dataframe depending on catagory passed into this function\n",
    "    new_task = {'task': \"\", 'project':'', 'category':'','priority':4,'note':'','complete':False}\n",
    "    new_row = pd.DataFrame(new_task, index=[0])\n",
    "    df = df.append(new_row, ignore_index=True)\n",
    "    return df"
   ]
  },
  {
   "cell_type": "code",
   "execution_count": 29,
   "metadata": {},
   "outputs": [],
   "source": [
    "df.to_sql('tasks', engine, if_exists='replace', index=False)"
   ]
  },
  {
   "cell_type": "code",
   "execution_count": 32,
   "metadata": {},
   "outputs": [],
   "source": [
    "df = addNewTask(df)"
   ]
  },
  {
   "cell_type": "code",
   "execution_count": 28,
   "metadata": {},
   "outputs": [
    {
     "data": {
      "text/html": [
       "<div>\n",
       "<style scoped>\n",
       "    .dataframe tbody tr th:only-of-type {\n",
       "        vertical-align: middle;\n",
       "    }\n",
       "\n",
       "    .dataframe tbody tr th {\n",
       "        vertical-align: top;\n",
       "    }\n",
       "\n",
       "    .dataframe thead th {\n",
       "        text-align: right;\n",
       "    }\n",
       "</style>\n",
       "<table border=\"1\" class=\"dataframe\">\n",
       "  <thead>\n",
       "    <tr style=\"text-align: right;\">\n",
       "      <th></th>\n",
       "      <th>task</th>\n",
       "      <th>project</th>\n",
       "      <th>category</th>\n",
       "      <th>priority</th>\n",
       "      <th>note</th>\n",
       "      <th>complete</th>\n",
       "    </tr>\n",
       "  </thead>\n",
       "  <tbody>\n",
       "    <tr>\n",
       "      <th>0</th>\n",
       "      <td>Run</td>\n",
       "      <td>home</td>\n",
       "      <td>health</td>\n",
       "      <td>1.0</td>\n",
       "      <td>Get my fat ass going</td>\n",
       "      <td>False</td>\n",
       "    </tr>\n",
       "    <tr>\n",
       "      <th>1</th>\n",
       "      <td>Run</td>\n",
       "      <td>home</td>\n",
       "      <td>health</td>\n",
       "      <td>1.0</td>\n",
       "      <td>Get my fat ass going</td>\n",
       "      <td>False</td>\n",
       "    </tr>\n",
       "    <tr>\n",
       "      <th>2</th>\n",
       "      <td></td>\n",
       "      <td></td>\n",
       "      <td></td>\n",
       "      <td>4.0</td>\n",
       "      <td></td>\n",
       "      <td>False</td>\n",
       "    </tr>\n",
       "    <tr>\n",
       "      <th>3</th>\n",
       "      <td>Run</td>\n",
       "      <td>home</td>\n",
       "      <td>health</td>\n",
       "      <td>1.0</td>\n",
       "      <td>Get my fat ass going</td>\n",
       "      <td>False</td>\n",
       "    </tr>\n",
       "  </tbody>\n",
       "</table>\n",
       "</div>"
      ],
      "text/plain": [
       "  task project category  priority                  note  complete\n",
       "0  Run    home   health       1.0  Get my fat ass going     False\n",
       "1  Run    home   health       1.0  Get my fat ass going     False\n",
       "2                             4.0                           False\n",
       "3  Run    home   health       1.0  Get my fat ass going     False"
      ]
     },
     "execution_count": 28,
     "metadata": {},
     "output_type": "execute_result"
    }
   ],
   "source": [
    "df"
   ]
  },
  {
   "cell_type": "code",
   "execution_count": 34,
   "metadata": {},
   "outputs": [],
   "source": [
    "df.to_sql('tasks', engine, if_exists='replace', index=False)"
   ]
  },
  {
   "cell_type": "code",
   "execution_count": 35,
   "metadata": {},
   "outputs": [
    {
     "data": {
      "text/html": [
       "<div>\n",
       "<style scoped>\n",
       "    .dataframe tbody tr th:only-of-type {\n",
       "        vertical-align: middle;\n",
       "    }\n",
       "\n",
       "    .dataframe tbody tr th {\n",
       "        vertical-align: top;\n",
       "    }\n",
       "\n",
       "    .dataframe thead th {\n",
       "        text-align: right;\n",
       "    }\n",
       "</style>\n",
       "<table border=\"1\" class=\"dataframe\">\n",
       "  <thead>\n",
       "    <tr style=\"text-align: right;\">\n",
       "      <th></th>\n",
       "      <th>task</th>\n",
       "      <th>project</th>\n",
       "      <th>category</th>\n",
       "      <th>priority</th>\n",
       "      <th>note</th>\n",
       "      <th>complete</th>\n",
       "    </tr>\n",
       "  </thead>\n",
       "  <tbody>\n",
       "    <tr>\n",
       "      <th>0</th>\n",
       "      <td>Run</td>\n",
       "      <td>home</td>\n",
       "      <td>health</td>\n",
       "      <td>1.0</td>\n",
       "      <td>Get my fat ass going</td>\n",
       "      <td>False</td>\n",
       "    </tr>\n",
       "    <tr>\n",
       "      <th>1</th>\n",
       "      <td>Run</td>\n",
       "      <td>home</td>\n",
       "      <td>health</td>\n",
       "      <td>1.0</td>\n",
       "      <td>Get my fat ass going</td>\n",
       "      <td>False</td>\n",
       "    </tr>\n",
       "    <tr>\n",
       "      <th>2</th>\n",
       "      <td></td>\n",
       "      <td></td>\n",
       "      <td></td>\n",
       "      <td>4.0</td>\n",
       "      <td></td>\n",
       "      <td>False</td>\n",
       "    </tr>\n",
       "  </tbody>\n",
       "</table>\n",
       "</div>"
      ],
      "text/plain": [
       "  task project category  priority                  note  complete\n",
       "0  Run    home   health       1.0  Get my fat ass going     False\n",
       "1  Run    home   health       1.0  Get my fat ass going     False\n",
       "2                             4.0                           False"
      ]
     },
     "execution_count": 35,
     "metadata": {},
     "output_type": "execute_result"
    }
   ],
   "source": [
    "df"
   ]
  },
  {
   "cell_type": "code",
   "execution_count": 32,
   "metadata": {},
   "outputs": [],
   "source": [
    "df_dict = df.to_dict(orient='row')"
   ]
  },
  {
   "cell_type": "code",
   "execution_count": 33,
   "metadata": {},
   "outputs": [
    {
     "data": {
      "text/plain": [
       "[{'task': 'Run',\n",
       "  'project': 'home',\n",
       "  'category': 'health',\n",
       "  'priority': 1.0,\n",
       "  'note': 'Get my fat ass going',\n",
       "  'complete': False},\n",
       " {'task': 'Run',\n",
       "  'project': 'home',\n",
       "  'category': 'health',\n",
       "  'priority': 1.0,\n",
       "  'note': 'Get my fat ass going',\n",
       "  'complete': False},\n",
       " {'task': '',\n",
       "  'project': '',\n",
       "  'category': '',\n",
       "  'priority': 4.0,\n",
       "  'note': '',\n",
       "  'complete': False},\n",
       " {'task': 'Run',\n",
       "  'project': 'home',\n",
       "  'category': 'health',\n",
       "  'priority': 1.0,\n",
       "  'note': 'Get my fat ass going',\n",
       "  'complete': False}]"
      ]
     },
     "execution_count": 33,
     "metadata": {},
     "output_type": "execute_result"
    }
   ],
   "source": [
    "df_dict"
   ]
  },
  {
   "cell_type": "code",
   "execution_count": 44,
   "metadata": {},
   "outputs": [
    {
     "name": "stdout",
     "output_type": "stream",
     "text": [
      "home\n"
     ]
    }
   ],
   "source": [
    "print(df_dict[0]['project'])"
   ]
  },
  {
   "cell_type": "code",
   "execution_count": 23,
   "metadata": {},
   "outputs": [
    {
     "name": "stdout",
     "output_type": "stream",
     "text": [
      "task 0: Run\n",
      "task 1: Run\n",
      "task 2: \n",
      "project 0: home\n",
      "project 1: home\n",
      "project 2: \n",
      "category 0: health\n",
      "category 1: health\n",
      "category 2: \n",
      "priority 0: 1.0\n",
      "priority 1: 1.0\n",
      "priority 2: 4.0\n",
      "note 0: Get my fat ass going\n",
      "note 1: Get my fat ass going\n",
      "note 2: \n",
      "complete 0: False\n",
      "complete 1: False\n",
      "complete 2: False\n"
     ]
    }
   ],
   "source": [
    "for key in df_dict:\n",
    "    for i in range(len(df_dict[key])):\n",
    "        print(key + \" \"+ str(i) + \": \" + str(df_dict[key][i]))"
   ]
  },
  {
   "cell_type": "code",
   "execution_count": 24,
   "metadata": {},
   "outputs": [
    {
     "ename": "TypeError",
     "evalue": "set_index() missing 1 required positional argument: 'keys'",
     "output_type": "error",
     "traceback": [
      "\u001b[1;31m---------------------------------------------------------------------------\u001b[0m",
      "\u001b[1;31mTypeError\u001b[0m                                 Traceback (most recent call last)",
      "\u001b[1;32m<ipython-input-24-a0581cb84c9b>\u001b[0m in \u001b[0;36m<module>\u001b[1;34m\u001b[0m\n\u001b[1;32m----> 1\u001b[1;33m \u001b[0mdf\u001b[0m\u001b[1;33m.\u001b[0m\u001b[0mset_index\u001b[0m\u001b[1;33m(\u001b[0m\u001b[1;33m)\u001b[0m\u001b[1;33m\u001b[0m\u001b[1;33m\u001b[0m\u001b[0m\n\u001b[0m",
      "\u001b[1;31mTypeError\u001b[0m: set_index() missing 1 required positional argument: 'keys'"
     ]
    }
   ],
   "source": [
    "df.set_index()"
   ]
  },
  {
   "cell_type": "code",
   "execution_count": null,
   "metadata": {},
   "outputs": [],
   "source": []
  }
 ],
 "metadata": {
  "kernelspec": {
   "display_name": "Python 3",
   "language": "python",
   "name": "python3"
  },
  "language_info": {
   "codemirror_mode": {
    "name": "ipython",
    "version": 3
   },
   "file_extension": ".py",
   "mimetype": "text/x-python",
   "name": "python",
   "nbconvert_exporter": "python",
   "pygments_lexer": "ipython3",
   "version": "3.8.5"
  }
 },
 "nbformat": 4,
 "nbformat_minor": 4
}
